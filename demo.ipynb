{
 "cells": [
  {
   "cell_type": "markdown",
   "metadata": {},
   "source": [
    "## Detecting individual particles\n",
    "\n",
    "### Seeing the invisible"
   ]
  },
  {
   "cell_type": "code",
   "execution_count": 1,
   "metadata": {},
   "outputs": [
    {
     "data": {
      "text/html": [
       "<video width=\"720\" height=\"480\" controls autoplay loop=\"true\">\n",
       "<source src=\"How_to_Build_a_Cloud_Chamber_short.mp4\" type=\"video/mp4\">\n",
       "</video>"
      ],
      "text/plain": [
       "<IPython.core.display.HTML object>"
      ]
     },
     "metadata": {},
     "output_type": "display_data"
    }
   ],
   "source": [
    "%%HTML\n",
    "<video width=\"720\" height=\"480\" controls autoplay loop=\"true\">\n",
    "<source src=\"How_to_Build_a_Cloud_Chamber_short.mp4\" type=\"video/mp4\">\n",
    "</video>"
   ]
  },
  {
   "cell_type": "code",
   "execution_count": 2,
   "metadata": {},
   "outputs": [
    {
     "data": {
      "text/html": [
       "<img src=\"Nice_Event_Display.png\">"
      ],
      "text/plain": [
       "<IPython.core.display.HTML object>"
      ]
     },
     "metadata": {},
     "output_type": "display_data"
    }
   ],
   "source": [
    "%%HTML\n",
    "<img src=\"Nice_Event_Display.png\">"
   ]
  },
  {
   "cell_type": "code",
   "execution_count": 3,
   "metadata": {},
   "outputs": [
    {
     "name": "stderr",
     "output_type": "stream",
     "text": [
      "/Users/michael/miniconda3/envs/py2/lib/python2.7/site-packages/ipykernel_launcher.py:7: RuntimeWarning: divide by zero encountered in divide\n",
      "  import sys\n"
     ]
    }
   ],
   "source": [
    "from root_numpy import root2rec\n",
    "import numpy as np, matplotlib.pyplot as plt\n",
    "\n",
    "all_sim = root2rec('/Users/michael/BEAST/sim/sim_refitter/v7/FTFP_BERT_HP/*.root', 'tr')\n",
    "\n",
    "all_sim['detnb'] += 1\n",
    "dQdx = all_sim['e_sum']/all_sim['t_length']\n",
    "dQdx[all_sim['t_length'] == 0] = 0"
   ]
  },
  {
   "cell_type": "code",
   "execution_count": 4,
   "metadata": {},
   "outputs": [
    {
     "name": "stdout",
     "output_type": "stream",
     "text": [
      "(0, 13, array([327, 328, 329, 330, 331, 325, 326, 327, 328, 329, 330, 331, 332],\n",
      "      dtype=uint32), array([20, 20, 20, 20, 20, 21, 21, 21, 21, 21, 21, 21, 21], dtype=uint32), array([1, 1, 0, 1, 1, 1, 1, 1, 1, 0, 1, 1, 1], dtype=uint32), array([1, 1, 3, 1, 1, 3, 3, 3, 3, 4, 2, 2, 1], dtype=uint32), array([2846.0889, 2846.0889, 6985.1313, 2846.0889, 2846.0889, 6985.1313,\n",
      "       6985.1313, 6985.1313, 6985.1313, 9617.471 , 4003.8254, 4003.8254,\n",
      "       2846.0889], dtype=float32), 28, 66781.22265625, 0.00607625, 0, 0., 0, 0., 0., 0., 0., 0., 0., 0., 0., 0., [0., 0., 0., 0., 0., 0.], [0., 0., 0., 0., 0., 0.], 1000, [0., 0., 0., 0.], 0, 0, 0, 0, 0, 1, array([[ 5000., 16350.,  -250.],\n",
      "       [ 5000., 16400.,  -250.],\n",
      "       [ 5000., 16450.,    -0.],\n",
      "       [ 5000., 16500.,  -250.],\n",
      "       [ 5000., 16550.,  -250.],\n",
      "       [ 5250., 16250.,  -250.],\n",
      "       [ 5250., 16300.,  -250.],\n",
      "       [ 5250., 16350.,  -250.],\n",
      "       [ 5250., 16400.,  -250.],\n",
      "       [ 5250., 16450.,    -0.],\n",
      "       [ 5250., 16500.,  -250.],\n",
      "       [ 5250., 16550.,  -250.],\n",
      "       [ 5250., 16600.,  -250.]]), [ 5153.84615385, 16434.61538462,  -211.53846154], 0., array([], dtype=float64), 3, 35.12446075, 30.42334106, 0., 0., 0., 0., 6.95312348e-310, array([], dtype=float64), array([], dtype=float64), 11)\n",
      "\n",
      "('event', 'npoints', 'row', 'col', 'bcid', 'tot', 'e', 'tot_sum', 'e_sum', 'truth_KineticEnergy', 'time_range', 'chi2', 'min_ret', 't_length', 'true_tlength', 'de_dx', 'theta', 'phi', 'foldedTheta', 'foldedPhi', 'fitTheta', 'fitPhi', 'par_fit', 'par_fit_err', 'hitside', 'impact_pars', 'top_alpha', 'bottom_alpha', 'xray', 'neutron', 'proton', 'other', 'vectors', 'c_vector', 'c_rms', 'distances', 'detnb', 'trueTheta', 'truePhi', 'headCharge', 'trueHeadCharge', 'tailCharge', 'trueTailCharge', 'chargeSum', 'projDistances', 'trueProjs', 'pdg')\n"
     ]
    }
   ],
   "source": [
    "print all_sim[0]\n",
    "print\n",
    "print all_sim.dtype.names"
   ]
  },
  {
   "cell_type": "code",
   "execution_count": 6,
   "metadata": {},
   "outputs": [
    {
     "data": {
      "text/html": [
       "<img src=\"tlength_vs_Erecoil_v7_and_data_ler.png\">"
      ],
      "text/plain": [
       "<IPython.core.display.HTML object>"
      ]
     },
     "metadata": {},
     "output_type": "display_data"
    }
   ],
   "source": [
    "%%HTML\n",
    "<img src=\"tlength_vs_Erecoil_v7_and_data_ler.png\">"
   ]
  },
  {
   "cell_type": "code",
   "execution_count": null,
   "metadata": {},
   "outputs": [],
   "source": []
  }
 ],
 "metadata": {
  "kernelspec": {
   "display_name": "Python 2",
   "language": "python",
   "name": "python2"
  },
  "language_info": {
   "codemirror_mode": {
    "name": "ipython",
    "version": 2
   },
   "file_extension": ".py",
   "mimetype": "text/x-python",
   "name": "python",
   "nbconvert_exporter": "python",
   "pygments_lexer": "ipython2",
   "version": "2.7.15"
  }
 },
 "nbformat": 4,
 "nbformat_minor": 2
}
